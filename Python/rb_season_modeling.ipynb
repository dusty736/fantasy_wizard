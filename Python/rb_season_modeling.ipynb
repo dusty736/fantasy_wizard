{
 "cells": [
  {
   "cell_type": "markdown",
   "id": "b4ef5579-eef5-4980-ac4c-e3de9bba9410",
   "metadata": {},
   "source": [
    "# Running Back Season Statistic Modeling\n",
    "\n",
    "### Load Libraries"
   ]
  },
  {
   "cell_type": "code",
   "execution_count": 1,
   "id": "439283ef-2961-4974-86c0-e6927782e82a",
   "metadata": {},
   "outputs": [],
   "source": [
    "import os\n",
    "import sys\n",
    "import warnings\n",
    "\n",
    "import IPython\n",
    "import ipywidgets as widgets\n",
    "import matplotlib.pyplot as plt\n",
    "import seaborn as sns\n",
    "import mglearn\n",
    "import numpy as np\n",
    "import pandas as pd\n",
    "from IPython.display import HTML, display\n",
    "from ipywidgets import interact, interactive\n",
    "from sklearn.dummy import DummyClassifier\n",
    "from sklearn.linear_model import Ridge, RidgeCV\n",
    "from sklearn.feature_extraction.text import CountVectorizer, TfidfVectorizer\n",
    "from sklearn.impute import SimpleImputer\n",
    "from sklearn.model_selection import cross_val_score, cross_validate, train_test_split\n",
    "from sklearn.neighbors import KNeighborsClassifier, KNeighborsRegressor\n",
    "from sklearn.pipeline import Pipeline, make_pipeline\n",
    "from sklearn.compose import ColumnTransformer, make_column_transformer\n",
    "from sklearn.preprocessing import OneHotEncoder, StandardScaler\n",
    "from sklearn.linear_model import Ridge, Lasso, ElasticNet\n",
    "from sklearn.tree import DecisionTreeRegressor\n",
    "from sklearn.svm import SVR\n",
    "from sklearn.metrics import accuracy_score, f1_score, roc_auc_score, classification_report\n",
    "from sklearn.ensemble import RandomForestRegressor, GradientBoostingRegressor, AdaBoostRegressor\n",
    "from utils import *\n",
    "from sklearn.model_selection import GridSearchCV\n",
    "from sklearn.exceptions import ConvergenceWarning\n",
    "from sklearn.metrics import make_scorer\n",
    "from sklearn.metrics import mean_squared_error\n",
    "from sklearn.metrics import mean_absolute_percentage_error\n",
    "from sklearn.metrics import r2_score\n",
    "from sklearn.preprocessing import MinMaxScaler\n",
    "\n",
    "import yellowbrick\n",
    "from yellowbrick.cluster import KElbowVisualizer, SilhouetteVisualizer\n",
    "from sklearn.decomposition import NMF, PCA\n",
    "\n",
    "%matplotlib inline\n",
    "pd.set_option(\"display.max_colwidth\", 200)"
   ]
  },
  {
   "cell_type": "markdown",
   "id": "da6926c5-40f6-48cb-8d66-720f4f706ef3",
   "metadata": {},
   "source": [
    "### Set Path"
   ]
  },
  {
   "cell_type": "code",
   "execution_count": 2,
   "id": "6873bbda-afb1-4a7e-89a2-fd577a17863f",
   "metadata": {
    "tags": []
   },
   "outputs": [
    {
     "name": "stdout",
     "output_type": "stream",
     "text": [
      "Working In: /Users/dusty/Desktop/projects/sports_analytics.nosync/fantasy_wizard\n"
     ]
    }
   ],
   "source": [
    "# Navigate two folders up\n",
    "#os.chdir(os.path.join(os.getcwd(), \"..\"))\n",
    "\n",
    "os.chdir(\"/Users/dusty/Desktop/projects/sports_analytics.nosync/fantasy_wizard/\")\n",
    "\n",
    "# Print the new working directory\n",
    "print(\"Working In:\", os.getcwd())"
   ]
  },
  {
   "cell_type": "markdown",
   "id": "6b2efdc9-3ec8-46e3-a1df-f5de1a0062e2",
   "metadata": {
    "tags": []
   },
   "source": [
    "### Load Data"
   ]
  },
  {
   "cell_type": "code",
   "execution_count": 3,
   "id": "c5358262-ca7b-403d-a0a8-f1334f04446a",
   "metadata": {
    "tags": []
   },
   "outputs": [],
   "source": [
    "# Load rb data\n",
    "rb_data = pd.read_csv(os.path.join(os.getcwd(), \"data\", \"processed\", \"season\", \"rb_season_stat_modeling_data.csv\"))\n",
    "rb_external_data = pd.read_csv(os.path.join(os.getcwd(), \"data\", \"processed\", \"season\", \"rb_season_external.csv\"))\n",
    "\n",
    "# Drop rows with any NA values\n",
    "#rb_data = rb_data.dropna()"
   ]
  },
  {
   "cell_type": "code",
   "execution_count": 4,
   "id": "b50a4dc5-c9b3-4091-971a-5c3492d51d57",
   "metadata": {
    "tags": []
   },
   "outputs": [
    {
     "data": {
      "text/plain": [
       "(376, 180)"
      ]
     },
     "execution_count": 4,
     "metadata": {},
     "output_type": "execute_result"
    }
   ],
   "source": [
    "rb_data.shape"
   ]
  },
  {
   "cell_type": "code",
   "execution_count": 5,
   "id": "a544c76e-7775-494a-adc1-3459accfa70f",
   "metadata": {
    "tags": []
   },
   "outputs": [
    {
     "data": {
      "text/html": [
       "<div>\n",
       "<style scoped>\n",
       "    .dataframe tbody tr th:only-of-type {\n",
       "        vertical-align: middle;\n",
       "    }\n",
       "\n",
       "    .dataframe tbody tr th {\n",
       "        vertical-align: top;\n",
       "    }\n",
       "\n",
       "    .dataframe thead th {\n",
       "        text-align: right;\n",
       "    }\n",
       "</style>\n",
       "<table border=\"1\" class=\"dataframe\">\n",
       "  <thead>\n",
       "    <tr style=\"text-align: right;\">\n",
       "      <th></th>\n",
       "      <th>team</th>\n",
       "      <th>player_id</th>\n",
       "      <th>player_display_name</th>\n",
       "      <th>target_season</th>\n",
       "      <th>games_played</th>\n",
       "      <th>seasons_played</th>\n",
       "      <th>career_carries</th>\n",
       "      <th>career_carries_pg</th>\n",
       "      <th>career_rushing_yd</th>\n",
       "      <th>career_rushing_ypg</th>\n",
       "      <th>...</th>\n",
       "      <th>avg_ot_tr_first_timeout</th>\n",
       "      <th>avg_ot_tr_last_timeout</th>\n",
       "      <th>off_rush_ypg_rank</th>\n",
       "      <th>off_rush_td_rank</th>\n",
       "      <th>off_pass_ypg_rank</th>\n",
       "      <th>off_pass_td_rank</th>\n",
       "      <th>def_rush_ypg_rank</th>\n",
       "      <th>def_rush_td_rank</th>\n",
       "      <th>def_pass_ypg_rank</th>\n",
       "      <th>def_pass_td_rank</th>\n",
       "    </tr>\n",
       "  </thead>\n",
       "  <tbody>\n",
       "    <tr>\n",
       "      <th>0</th>\n",
       "      <td>ATL</td>\n",
       "      <td>00-0028083</td>\n",
       "      <td>Jacquizz Rodgers</td>\n",
       "      <td>2013</td>\n",
       "      <td>32</td>\n",
       "      <td>2</td>\n",
       "      <td>151</td>\n",
       "      <td>4.718750</td>\n",
       "      <td>567</td>\n",
       "      <td>17.718750</td>\n",
       "      <td>...</td>\n",
       "      <td>NaN</td>\n",
       "      <td>NaN</td>\n",
       "      <td>29.0</td>\n",
       "      <td>15.0</td>\n",
       "      <td>6.0</td>\n",
       "      <td>5.0</td>\n",
       "      <td>20.0</td>\n",
       "      <td>24.5</td>\n",
       "      <td>23.0</td>\n",
       "      <td>1.0</td>\n",
       "    </tr>\n",
       "    <tr>\n",
       "      <th>1</th>\n",
       "      <td>BAL</td>\n",
       "      <td>00-0026195</td>\n",
       "      <td>Ray Rice</td>\n",
       "      <td>2013</td>\n",
       "      <td>76</td>\n",
       "      <td>5</td>\n",
       "      <td>1216</td>\n",
       "      <td>16.000000</td>\n",
       "      <td>5520</td>\n",
       "      <td>72.631579</td>\n",
       "      <td>...</td>\n",
       "      <td>221.7</td>\n",
       "      <td>185.6</td>\n",
       "      <td>11.0</td>\n",
       "      <td>7.0</td>\n",
       "      <td>15.0</td>\n",
       "      <td>19.5</td>\n",
       "      <td>21.0</td>\n",
       "      <td>23.0</td>\n",
       "      <td>17.0</td>\n",
       "      <td>2.5</td>\n",
       "    </tr>\n",
       "    <tr>\n",
       "      <th>2</th>\n",
       "      <td>BAL</td>\n",
       "      <td>00-0029264</td>\n",
       "      <td>Bernard Pierce</td>\n",
       "      <td>2013</td>\n",
       "      <td>15</td>\n",
       "      <td>1</td>\n",
       "      <td>108</td>\n",
       "      <td>7.200000</td>\n",
       "      <td>532</td>\n",
       "      <td>35.466667</td>\n",
       "      <td>...</td>\n",
       "      <td>221.7</td>\n",
       "      <td>185.6</td>\n",
       "      <td>11.0</td>\n",
       "      <td>7.0</td>\n",
       "      <td>15.0</td>\n",
       "      <td>19.5</td>\n",
       "      <td>21.0</td>\n",
       "      <td>23.0</td>\n",
       "      <td>17.0</td>\n",
       "      <td>2.5</td>\n",
       "    </tr>\n",
       "    <tr>\n",
       "      <th>3</th>\n",
       "      <td>BUF</td>\n",
       "      <td>00-0024204</td>\n",
       "      <td>Fred Jackson</td>\n",
       "      <td>2013</td>\n",
       "      <td>75</td>\n",
       "      <td>6</td>\n",
       "      <td>932</td>\n",
       "      <td>12.426667</td>\n",
       "      <td>4220</td>\n",
       "      <td>56.266667</td>\n",
       "      <td>...</td>\n",
       "      <td>449.8</td>\n",
       "      <td>387.0</td>\n",
       "      <td>6.0</td>\n",
       "      <td>15.0</td>\n",
       "      <td>25.0</td>\n",
       "      <td>14.0</td>\n",
       "      <td>31.0</td>\n",
       "      <td>32.0</td>\n",
       "      <td>10.0</td>\n",
       "      <td>17.5</td>\n",
       "    </tr>\n",
       "    <tr>\n",
       "      <th>4</th>\n",
       "      <td>BUF</td>\n",
       "      <td>00-0027861</td>\n",
       "      <td>C.J. Spiller</td>\n",
       "      <td>2013</td>\n",
       "      <td>46</td>\n",
       "      <td>3</td>\n",
       "      <td>388</td>\n",
       "      <td>8.434783</td>\n",
       "      <td>2088</td>\n",
       "      <td>45.391304</td>\n",
       "      <td>...</td>\n",
       "      <td>449.8</td>\n",
       "      <td>387.0</td>\n",
       "      <td>6.0</td>\n",
       "      <td>15.0</td>\n",
       "      <td>25.0</td>\n",
       "      <td>14.0</td>\n",
       "      <td>31.0</td>\n",
       "      <td>32.0</td>\n",
       "      <td>10.0</td>\n",
       "      <td>17.5</td>\n",
       "    </tr>\n",
       "  </tbody>\n",
       "</table>\n",
       "<p>5 rows × 180 columns</p>\n",
       "</div>"
      ],
      "text/plain": [
       "  team   player_id player_display_name  target_season  games_played  \\\n",
       "0  ATL  00-0028083    Jacquizz Rodgers           2013            32   \n",
       "1  BAL  00-0026195            Ray Rice           2013            76   \n",
       "2  BAL  00-0029264      Bernard Pierce           2013            15   \n",
       "3  BUF  00-0024204        Fred Jackson           2013            75   \n",
       "4  BUF  00-0027861        C.J. Spiller           2013            46   \n",
       "\n",
       "   seasons_played  career_carries  career_carries_pg  career_rushing_yd  \\\n",
       "0               2             151           4.718750                567   \n",
       "1               5            1216          16.000000               5520   \n",
       "2               1             108           7.200000                532   \n",
       "3               6             932          12.426667               4220   \n",
       "4               3             388           8.434783               2088   \n",
       "\n",
       "   career_rushing_ypg  ...  avg_ot_tr_first_timeout  avg_ot_tr_last_timeout  \\\n",
       "0           17.718750  ...                      NaN                     NaN   \n",
       "1           72.631579  ...                    221.7                   185.6   \n",
       "2           35.466667  ...                    221.7                   185.6   \n",
       "3           56.266667  ...                    449.8                   387.0   \n",
       "4           45.391304  ...                    449.8                   387.0   \n",
       "\n",
       "   off_rush_ypg_rank  off_rush_td_rank  off_pass_ypg_rank  off_pass_td_rank  \\\n",
       "0               29.0              15.0                6.0               5.0   \n",
       "1               11.0               7.0               15.0              19.5   \n",
       "2               11.0               7.0               15.0              19.5   \n",
       "3                6.0              15.0               25.0              14.0   \n",
       "4                6.0              15.0               25.0              14.0   \n",
       "\n",
       "   def_rush_ypg_rank  def_rush_td_rank  def_pass_ypg_rank  def_pass_td_rank  \n",
       "0               20.0              24.5               23.0               1.0  \n",
       "1               21.0              23.0               17.0               2.5  \n",
       "2               21.0              23.0               17.0               2.5  \n",
       "3               31.0              32.0               10.0              17.5  \n",
       "4               31.0              32.0               10.0              17.5  \n",
       "\n",
       "[5 rows x 180 columns]"
      ]
     },
     "execution_count": 5,
     "metadata": {},
     "output_type": "execute_result"
    }
   ],
   "source": [
    "rb_data.head()"
   ]
  },
  {
   "cell_type": "markdown",
   "id": "8eac1c9c-c8a5-42ba-8527-8c5cbcbbe930",
   "metadata": {},
   "source": [
    "### Split into Modeling and Target Data"
   ]
  },
  {
   "cell_type": "code",
   "execution_count": 7,
   "id": "c09acbee-3425-468e-a57f-1956d17468a3",
   "metadata": {
    "tags": []
   },
   "outputs": [],
   "source": [
    "# Get Target Columns\n",
    "target_columns = ['target_carries',\n",
    "                  'target_rushing_yd',\n",
    "                  'target_rushing_td',\n",
    "                  'target_rushing_fb_lst',\n",
    "                  'target_receptions',\n",
    "                  'target_receiving_yd',\n",
    "                  'target_receiving_td',\n",
    "                  'target_receiving_fb_lst']\n",
    "\n",
    "# Separate Modeling Data\n",
    "modeling_data_x = rb_data.drop(columns=target_columns)\n",
    "modeling_data_y = rb_data.target_rushing_yd\n",
    "\n",
    "# Split into Train and Test\n",
    "X_train, X_test, y_train, y_test = train_test_split(\n",
    "    modeling_data_x, modeling_data_y, train_size=0.9, test_size=0.1, random_state=42\n",
    ")"
   ]
  },
  {
   "cell_type": "code",
   "execution_count": 82,
   "id": "4e53d88e-66ea-4356-bcb3-b1f68a97fcdc",
   "metadata": {
    "tags": []
   },
   "outputs": [
    {
     "name": "stdout",
     "output_type": "stream",
     "text": [
      "Training Data Dimensions: (338, 172)\n",
      "Test Data Dimensions: (38, 172)\n"
     ]
    }
   ],
   "source": [
    "print(f\"Training Data Dimensions: {X_train.shape}\")\n",
    "print(f\"Test Data Dimensions: {X_test.shape}\")\n",
    "\n",
    "assert(X_train.shape[0] == y_train.shape[0])\n",
    "assert(X_test.shape[0] == y_test.shape[0])"
   ]
  },
  {
   "cell_type": "code",
   "execution_count": 83,
   "id": "0b07a236-00de-47c9-a487-24ac4cdf253e",
   "metadata": {
    "tags": []
   },
   "outputs": [
    {
     "data": {
      "text/plain": [
       "(array([  1.,   0.,   2.,   4.,  13.,  32.,  47.,  75., 131.,  33.]),\n",
       " array([2.19722458, 2.73893333, 3.28064209, 3.82235085, 4.3640596 ,\n",
       "        4.90576836, 5.44747712, 5.98918588, 6.53089463, 7.07260339,\n",
       "        7.61431215]),\n",
       " <BarContainer object of 10 artists>)"
      ]
     },
     "execution_count": 83,
     "metadata": {},
     "output_type": "execute_result"
    },
    {
     "data": {
      "image/png": "[encoded data removed]",
      "text/plain": [
       "<Figure size 800x550 with 1 Axes>"
      ]
     },
     "metadata": {},
     "output_type": "display_data"
    }
   ],
   "source": [
    "plt.hist(y_train)"
   ]
  },
  {
   "cell_type": "markdown",
   "id": "249fab9a-fc31-440f-9f5e-01c9a4b2ae0e",
   "metadata": {},
   "source": [
    "### EDA"
   ]
  },
  {
   "cell_type": "code",
   "execution_count": 84,
   "id": "dafb844e-a10e-4bf5-9a5c-fb2d7eca89a1",
   "metadata": {
    "tags": []
   },
   "outputs": [
    {
     "ename": "NameError",
     "evalue": "name 'test_data' is not defined",
     "output_type": "error",
     "traceback": [
      "\u001b[0;31m---------------------------------------------------------------------------\u001b[0m",
      "\u001b[0;31mNameError\u001b[0m                                 Traceback (most recent call last)",
      "Cell \u001b[0;32mIn[84], line 2\u001b[0m\n\u001b[1;32m      1\u001b[0m \u001b[38;5;66;03m# Get Target Columns\u001b[39;00m\n\u001b[0;32m----> 2\u001b[0m g \u001b[38;5;241m=\u001b[39m sns\u001b[38;5;241m.\u001b[39mPairGrid(\u001b[43mtest_data\u001b[49m)\n\u001b[1;32m      3\u001b[0m \u001b[38;5;66;03m# Map plots to the grid\u001b[39;00m\n\u001b[1;32m      4\u001b[0m g\u001b[38;5;241m.\u001b[39mmap_upper(sns\u001b[38;5;241m.\u001b[39mscatterplot)\n",
      "\u001b[0;31mNameError\u001b[0m: name 'test_data' is not defined"
     ]
    }
   ],
   "source": [
    "# Get Target Columns\n",
    "g = sns.PairGrid(test_data)\n",
    "# Map plots to the grid\n",
    "g.map_upper(sns.scatterplot)\n",
    "g.map_lower(sns.kdeplot, fill=True)\n",
    "g.map_diag(sns.histplot)\n",
    "\n",
    "plt.show();"
   ]
  },
  {
   "cell_type": "markdown",
   "id": "8d13bbe0-0c4b-48dc-bc38-2c7c0f00a5a3",
   "metadata": {},
   "source": [
    "### Define Variable Types"
   ]
  },
  {
   "cell_type": "code",
   "execution_count": 85,
   "id": "c0b02f81-7063-41ec-a9c6-e675ff03ecb3",
   "metadata": {
    "tags": []
   },
   "outputs": [],
   "source": [
    "modeling_columns = ['team', 'player_id', 'player_display_name', 'target_season', \n",
    "                      'games_played', 'seasons_played', \n",
    "                      # Career\n",
    "                      'career_carries', 'career_carries_pg', 'career_rushing_yd', \n",
    "                      'career_rushing_ypg', 'career_target_share', 'career_catch_rate', 'career_receiving_ypg', \n",
    "                      # Previous Season\n",
    "                      'prev_season_games_played', 'prev_season_carries','prev_season_carries_pg', \n",
    "                      'prev_season_rushing_yd', 'prev_season_rushing_ypg', 'prev_season_rushing_fb', \n",
    "                      'prev_season_receptions', 'prev_season_target_share', 'prev_season_catch_rate', \n",
    "                      # Roster\n",
    "                      'same_team', 'draft_round', \n",
    "                      # Coaching\n",
    "                      'total_wins', 'total_losses', 'total_win_pct', 'avg_rush_td', \n",
    "                      'avg_1st_down_penalty', 'pct_early_down_pass_total', 'pct_early_down_rush_total', \n",
    "                      'pct_early_down_deep_pass_total', 'pct_early_down_short_pass_total', \n",
    "                      'total_yrds_gained_early_down_total', 'early_down_conversion_rate_total', \n",
    "                      'to_go_third_down', 'pct_third_down_pass', 'pct_third_down_rush', \n",
    "                      'mean_yrds_gained_third_down', 'third_down_conversion_rate', \n",
    "                      'third_down_failed_rate', 'to_go_fourth_down', 'pct_fourth_down_pass', \n",
    "                      'pct_fourth_down_rush', 'pct_fourth_down_deep_pass', 'pct_fourth_down_short_pass', \n",
    "                      'mean_yrds_gained_fourth_down', 'fourth_down_conversion_rate', \n",
    "                      'fourth_down_failed_rate',\n",
    "                      # Power Rankings\n",
    "                      'off_rush_ypg_rank', 'off_rush_td_rank', 'off_pass_ypg_rank', \n",
    "                      'off_pass_td_rank', 'def_rush_ypg_rank', 'def_rush_td_rank', \n",
    "                      'def_pass_ypg_rank', 'def_pass_td_rank']\n",
    "\n",
    "drop_columns = ['player_id', 'player_display_name', 'target_season', 'team', 'coach']\n",
    "\n",
    "# Get cat columns\n",
    "cat_columns = ['same_team', 'draft_round', 'off_rush_ypg_rank', 'off_rush_td_rank',\n",
    "                    'off_pass_ypg_rank', 'off_pass_td_rank', 'def_rush_ypg_rank', 'def_rush_td_rank',\n",
    "                    'def_pass_ypg_rank', 'def_pass_td_rank']\n",
    "\n",
    "# Get numeric columns\n",
    "non_numeric_columns = drop_columns + cat_columns\n",
    "numeric_columns = X_train.drop(columns=non_numeric_columns).columns\n",
    "\n",
    "assert(len(numeric_columns) + len(drop_columns) + len(cat_columns) == len(X_train.columns))"
   ]
  },
  {
   "cell_type": "markdown",
   "id": "99061f0b-8925-4012-95f5-265e8133a833",
   "metadata": {},
   "source": [
    "## PCA Analysis\n",
    "\n",
    "### Find Number of PCs"
   ]
  },
  {
   "cell_type": "code",
   "execution_count": 86,
   "id": "520d93e2-e6c1-49fb-b3eb-b8de82034c4b",
   "metadata": {
    "tags": []
   },
   "outputs": [
    {
     "data": {
      "text/plain": [
       "Index(['games_played', 'seasons_played', 'career_carries', 'career_carries_pg',\n",
       "       'career_rushing_yd', 'career_rushing_ypg', 'career_rushing_td',\n",
       "       'career_rushing_td_pg', 'career_rushing_fd', 'career_rushing_fd_pg',\n",
       "       ...\n",
       "       'fourth_down_conversion_rate', 'fourth_down_failed_rate',\n",
       "       'avg_half1_timeouts_taken', 'avg_half1_tr_first_timeout',\n",
       "       'avg_half1_tr_last_timeout', 'avg_half2_timeouts_taken',\n",
       "       'avg_half2_tr_first_timeout', 'avg_half2_tr_last_timeout',\n",
       "       'avg_ot_tr_first_timeout', 'avg_ot_tr_last_timeout'],\n",
       "      dtype='object', length=157)"
      ]
     },
     "execution_count": 86,
     "metadata": {},
     "output_type": "execute_result"
    }
   ],
   "source": [
    "numeric_columns"
   ]
  },
  {
   "cell_type": "code",
   "execution_count": 87,
   "id": "8bbfab36-04b2-4fdd-a265-ecea7960866f",
   "metadata": {
    "tags": []
   },
   "outputs": [],
   "source": [
    "# Preprocess Data\n",
    "\n",
    "# Impute missing data\n",
    "#imputer = SimpleImputer(strategy=\"median\")\n",
    "#PCA_data = imputer.fit_transform(modeling_data[numeric_columns])\n",
    "PCA_data = modeling_data_x[numeric_columns].dropna()\n",
    "\n",
    "# Create scaling object\n",
    "scaler = MinMaxScaler()\n",
    "\n",
    "# Fit scaling object\n",
    "scaler.fit(modeling_data_x[numeric_columns].dropna())\n",
    "\n",
    "# Create transformed data\n",
    "scaled_modeling_data = pd.DataFrame(scaler.transform(modeling_data_x[numeric_columns].dropna()), columns=numeric_columns)"
   ]
  },
  {
   "cell_type": "code",
   "execution_count": 88,
   "id": "8a783013-0ac9-4fb4-ad0c-c9f5aac97c30",
   "metadata": {
    "tags": []
   },
   "outputs": [
    {
     "data": {
      "image/png": "[encoded data removed]",
      "text/plain": [
       "<Figure size 1500x600 with 1 Axes>"
      ]
     },
     "metadata": {},
     "output_type": "display_data"
    }
   ],
   "source": [
    "# Creating and fitting the model\n",
    "pca = PCA(n_components=10, random_state=42).fit(PCA_data)\n",
    "\n",
    "plt.figure(figsize=(15, 6))\n",
    "plt.plot(range(1, 11), np.cumsum(pca.explained_variance_ratio_))\n",
    "plt.xticks(range(1, 11))\n",
    "plt.xlabel(\"number of components\")\n",
    "plt.ylabel(\"explained variance\")\n",
    "plt.grid();"
   ]
  },
  {
   "cell_type": "code",
   "execution_count": 89,
   "id": "1bdb578c-5bf1-4df2-b6ec-3c931ac3fa3e",
   "metadata": {
    "tags": []
   },
   "outputs": [
    {
     "data": {
      "text/plain": [
       "array([0.47549249, 0.93515767, 0.96595951, 0.98141846, 0.98859845,\n",
       "       0.99400688, 0.99638294, 0.99784729, 0.99864706, 0.99911688])"
      ]
     },
     "execution_count": 89,
     "metadata": {},
     "output_type": "execute_result"
    }
   ],
   "source": [
    "np.cumsum(pca.explained_variance_ratio_)"
   ]
  },
  {
   "cell_type": "code",
   "execution_count": 90,
   "id": "cdab3384-6da8-46f3-9c9d-beace5dbab09",
   "metadata": {
    "tags": []
   },
   "outputs": [
    {
     "data": {
      "text/plain": [
       "0.9991168765536578"
      ]
     },
     "execution_count": 90,
     "metadata": {},
     "output_type": "execute_result"
    }
   ],
   "source": [
    "pca.explained_variance_ratio_.sum()"
   ]
  },
  {
   "cell_type": "markdown",
   "id": "8151545d-47d3-40cb-ac50-d304e8bdca2b",
   "metadata": {},
   "source": [
    "### Summary\n",
    "\n",
    "Four PCA components explain ~98% of the explained variance in the data, so I will use 4 PCs in this analysis"
   ]
  },
  {
   "cell_type": "code",
   "execution_count": 77,
   "id": "9a5e504b-2719-4a33-bf49-894f67e09570",
   "metadata": {
    "tags": []
   },
   "outputs": [],
   "source": [
    "n_pc = 4"
   ]
  },
  {
   "cell_type": "markdown",
   "id": "9c089b97-edc5-4706-a548-4f7913308f23",
   "metadata": {},
   "source": [
    "### Define Pipeline"
   ]
  },
  {
   "cell_type": "code",
   "execution_count": 78,
   "id": "960d0911-28b1-41c2-83cb-93dd1dc2cdcb",
   "metadata": {
    "tags": []
   },
   "outputs": [],
   "source": [
    "numeric_transformer = make_pipeline(SimpleImputer(strategy=\"median\"), StandardScaler())\n",
    "\n",
    "categorical_transformer = make_pipeline(\n",
    "    SimpleImputer(strategy=\"constant\", fill_value=\"missing\"),\n",
    "    OneHotEncoder(handle_unknown=\"ignore\", sparse_output=False),\n",
    ")\n",
    "\n",
    "preprocessor = make_column_transformer(\n",
    "    (\"drop\", drop_columns),\n",
    "    (numeric_transformer, numeric_columns),\n",
    "    (categorical_transformer, cat_columns),\n",
    ")"
   ]
  },
  {
   "cell_type": "markdown",
   "id": "4fb646a9-e07a-49e3-ae57-973fdfce7a28",
   "metadata": {},
   "source": [
    "### Define Target Datasets"
   ]
  },
  {
   "cell_type": "markdown",
   "id": "49f8155d-1685-4033-a97c-c7430aebcc61",
   "metadata": {},
   "source": [
    "### Model Setup\n",
    "\n",
    "1.  Ridge\n",
    "2. Lasso\n",
    "3. ElasticNet\n",
    "4. DecisionTreeRegressor\n",
    "5. SVR\n",
    "6. RandomForestRegressor\n",
    "7. GradientBoostingRegressor\n",
    "8. AdaBoostRegressor"
   ]
  },
  {
   "cell_type": "code",
   "execution_count": 79,
   "id": "6e4c77e1-4bb1-4033-bd1f-f21de84b7a0c",
   "metadata": {
    "tags": []
   },
   "outputs": [],
   "source": [
    "# Define Default Pipelines\n",
    "pipe_R = make_pipeline(preprocessor, \n",
    "                       PCA(n_components=n_pc),\n",
    "                       Ridge())\n",
    "pipe_L = make_pipeline(preprocessor, \n",
    "                       PCA(n_components=n_pc),\n",
    "                           Lasso())\n",
    "pipe_EN = make_pipeline(preprocessor, \n",
    "                        PCA(n_components=n_pc),\n",
    "                            ElasticNet())\n",
    "pipe_DTR = make_pipeline(preprocessor, \n",
    "                         PCA(n_components=n_pc),\n",
    "                         DecisionTreeRegressor())\n",
    "pipe_SVR = make_pipeline(preprocessor, \n",
    "                         PCA(n_components=n_pc),\n",
    "                             SVR())\n",
    "pipe_RFR = make_pipeline(preprocessor, \n",
    "                         PCA(n_components=n_pc),\n",
    "                         RandomForestRegressor())\n",
    "pipe_GBR = make_pipeline(preprocessor, \n",
    "                         PCA(n_components=n_pc),\n",
    "                         GradientBoostingRegressor())\n",
    "pipe_ABR = make_pipeline(preprocessor, \n",
    "                         PCA(n_components=n_pc),\n",
    "                         AdaBoostRegressor())\n",
    "\n",
    "# Define Parameter Grids\n",
    "R_param_grid = {\n",
    "    'regressor__alpha': 10.0 ** np.arange(-6, 6, 1), \n",
    "    'regressor__fit_intercept': [True, False], \n",
    "    'regressor__solver': ['auto']\n",
    "}\n",
    "\n",
    "L_param_grid = {\n",
    "    'regressor__alpha': 10.0 ** np.arange(-6, 6, 1), \n",
    "    'regressor__fit_intercept': [True, False],\n",
    "    'regressor__max_iter':  [1000, 5000, 10000],\n",
    "    'regressor__tol':  [1e-4, 1e-5, 1e-6]\n",
    "}\n",
    "\n",
    "EN_param_grid = {\n",
    "    'regressor__alpha': 10.0 ** np.arange(-6, 6, 1),\n",
    "    'regressor__l1_ratio': [0.2, 0.5, 0.8],\n",
    "    'regressor__fit_intercept': [True, False], \n",
    "    'regressor__max_iter':  [1000, 5000, 10000],\n",
    "    'regressor__tol':  [1e-4, 1e-5, 1e-6]\n",
    "}\n",
    "\n",
    "DTR_param_grid = {\n",
    "    'regressor__max_features': [None, \"sqrt\", \"log2\"], \n",
    "    'regressor__max_depth': [None, 3, 5, 10], \n",
    "    'regressor__min_samples_split':  [2, 5, 10, 20], \n",
    "    'regressor__min_samples_leaf': [1, 3, 5, 10]\n",
    "}\n",
    "\n",
    "SVR_param_grid = {\n",
    "    'regressor__C': [0.1, 1.0, 10.0], \n",
    "    'regressor__epsilon': [0.01, 0.1, 1.0], \n",
    "    'regressor__kernel':  [\"linear\", \"poly\", \"rbf\"], \n",
    "    'regressor__gamma': [0.01, 0.1, 1.0]\n",
    "}\n",
    "\n",
    "RFR_param_grid = {\n",
    "    'regressor__n_estimators': [100, 200, 500], \n",
    "    'regressor__max_depth':  [None, 5, 10, 20], \n",
    "    'regressor__min_samples_split':  [2, 5, 10], \n",
    "    'regressor__min_samples_leaf': [1, 3, 5],\n",
    "    'regressor__max_features': [\"auto\", \"sqrt\", \"log2\"],\n",
    "    'regressor__random_state': [42]\n",
    "\n",
    "}\n",
    "\n",
    "GBR_param_grid = {\n",
    "    'regressor__max_depth':  [None, 5, 10, 20], \n",
    "    'regressor__min_samples_split':  [2, 5, 10], \n",
    "    'regressor__min_samples_leaf': [1, 3, 5],\n",
    "    #'regressor__max_features': [\"auto\", \"sqrt\", \"log2\"],\n",
    "    'regressor__random_state': [42]\n",
    "}\n",
    "\n",
    "ABR_param_grid = {\n",
    "    'regressor__n_estimators': [100, 200, 500], \n",
    "    'regressor__learning_rate': [100, 200, 500], \n",
    "    'regressor__loss':   [\"linear\", \"square\", \"exponential\"], \n",
    "    'regressor__estimator':  [RandomForestRegressor()], \n",
    "    'regressor__random_state': [42]\n",
    "}"
   ]
  },
  {
   "cell_type": "markdown",
   "id": "55a24ecf-e42f-4d87-ab5b-c09a7d36e1c3",
   "metadata": {},
   "source": [
    "### Create RB Rushing Yards Model\n",
    "#### Ridge Regression"
   ]
  },
  {
   "cell_type": "code",
   "execution_count": 80,
   "id": "9c896a9d-8f22-4aa0-a0b9-44405b9ba956",
   "metadata": {
    "tags": []
   },
   "outputs": [
    {
     "name": "stdout",
     "output_type": "stream",
     "text": [
      "Fitting 5 folds for each of 24 candidates, totalling 120 fits\n",
      "Best parameters:  {'regressor__alpha': 1e-05, 'regressor__fit_intercept': True, 'regressor__solver': 'auto'}\n",
      "Best score:  0.36848002931857315\n"
     ]
    }
   ],
   "source": [
    "# Create tmp pipeline\n",
    "opt_pipeline = Pipeline([('preprocessor', preprocessor),\n",
    "                         ('pca', pipe_R['pca']),\n",
    "                         ('regressor', pipe_R['ridge'])])\n",
    "\n",
    "# Create the GridSearchCV object\n",
    "grid_search_R = GridSearchCV(opt_pipeline, R_param_grid, cv=5, n_jobs=-1, verbose=1)\n",
    "\n",
    "# Fit the GridSearchCV object to the data\n",
    "grid_search_R.fit(X_train, y_train)\n",
    "\n",
    "# Print the best parameters and the best score\n",
    "print(\"Best parameters: \", grid_search_R.best_params_)\n",
    "print(\"Best score: \", grid_search_R.best_score_)\n",
    "\n",
    "# Define Winning Model\n",
    "params_R = grid_search_R.best_params_"
   ]
  },
  {
   "cell_type": "markdown",
   "id": "9031822e-013b-4a4e-9363-d2857d980d27",
   "metadata": {},
   "source": [
    "#### Lasso Regression"
   ]
  },
  {
   "cell_type": "code",
   "execution_count": 81,
   "id": "c826d40c-7c6f-4cc5-b732-ae6aaba61ae2",
   "metadata": {
    "tags": []
   },
   "outputs": [
    {
     "name": "stdout",
     "output_type": "stream",
     "text": [
      "Fitting 5 folds for each of 216 candidates, totalling 1080 fits\n",
      "Best parameters:  {'regressor__alpha': 1e-05, 'regressor__fit_intercept': True, 'regressor__max_iter': 5000, 'regressor__tol': 0.0001}\n",
      "Best score:  0.3684810351354607\n"
     ]
    }
   ],
   "source": [
    "# Create tmp pipeline\n",
    "opt_pipeline = Pipeline([('preprocessor', preprocessor),\n",
    "                         ('pca', pipe_L['pca']),\n",
    "                         ('regressor', pipe_L['lasso'])])\n",
    "\n",
    "# Create the GridSearchCV object\n",
    "grid_search_L = GridSearchCV(opt_pipeline, L_param_grid, cv=5, n_jobs=-1, verbose=1);\n",
    "\n",
    "# Fit the GridSearchCV object to the data\n",
    "grid_search_L.fit(X_train, y_train)\n",
    "\n",
    "# Print the best parameters and the best score\n",
    "print(\"Best parameters: \", grid_search_L.best_params_)\n",
    "print(\"Best score: \", grid_search_L.best_score_)\n",
    "\n",
    "# Define Winning Model\n",
    "params_L = grid_search_L.best_params_"
   ]
  },
  {
   "cell_type": "markdown",
   "id": "cc846105-40c9-4095-83d2-77543b13aeef",
   "metadata": {},
   "source": [
    "#### Elastic Net Regression"
   ]
  },
  {
   "cell_type": "code",
   "execution_count": 50,
   "id": "2473eb8b-5ce6-4a85-8848-6931a05792ff",
   "metadata": {
    "tags": []
   },
   "outputs": [
    {
     "name": "stdout",
     "output_type": "stream",
     "text": [
      "Fitting 5 folds for each of 648 candidates, totalling 3240 fits\n",
      "Best parameters:  {'regressor__alpha': 1e-06, 'regressor__fit_intercept': True, 'regressor__l1_ratio': 0.5, 'regressor__max_iter': 5000, 'regressor__tol': 1e-05}\n",
      "Best score:  0.4316269218483451\n"
     ]
    }
   ],
   "source": [
    "# Create tmp pipeline\n",
    "opt_pipeline = Pipeline([('preprocessor', preprocessor),\n",
    "                         ('pca', pipe_EN['pca']),\n",
    "                         ('regressor', pipe_EN['elasticnet'])])\n",
    "\n",
    "# Create the GridSearchCV object\n",
    "grid_search_EN = GridSearchCV(opt_pipeline, EN_param_grid, cv=5, n_jobs=-1, verbose=1)\n",
    "\n",
    "# Fit the GridSearchCV object to the data\n",
    "grid_search_EN.fit(X_train, y_train)\n",
    "\n",
    "# Print the best parameters and the best score\n",
    "print(\"Best parameters: \", grid_search_EN.best_params_)\n",
    "print(\"Best score: \", grid_search_EN.best_score_)\n",
    "\n",
    "# Define Winning Model\n",
    "params_EN = grid_search_EN.best_params_"
   ]
  },
  {
   "cell_type": "markdown",
   "id": "bb0f6e52-f375-4c1f-9efe-8045fe86fbc8",
   "metadata": {},
   "source": [
    "#### Decision Tree Regressor"
   ]
  },
  {
   "cell_type": "code",
   "execution_count": 51,
   "id": "eedd8076-ef63-4094-a654-6cc5fd02a844",
   "metadata": {
    "tags": []
   },
   "outputs": [
    {
     "name": "stdout",
     "output_type": "stream",
     "text": [
      "Fitting 5 folds for each of 192 candidates, totalling 960 fits\n",
      "Best parameters:  {'regressor__max_depth': 5, 'regressor__max_features': 'sqrt', 'regressor__min_samples_leaf': 10, 'regressor__min_samples_split': 5}\n",
      "Best score:  0.33836918217718914\n"
     ]
    }
   ],
   "source": [
    "# Create tmp pipeline\n",
    "opt_pipeline = Pipeline([('preprocessor', preprocessor),\n",
    "                         ('pca', pipe_DTR['pca']),\n",
    "                         ('regressor', pipe_DTR['decisiontreeregressor'])])\n",
    "\n",
    "# Create the GridSearchCV object\n",
    "grid_search_DTR = GridSearchCV(opt_pipeline, DTR_param_grid, cv=5, n_jobs=-1, verbose=1)\n",
    "\n",
    "# Fit the GridSearchCV object to the data\n",
    "grid_search_DTR.fit(X_train, y_train)\n",
    "\n",
    "# Print the best parameters and the best score\n",
    "print(\"Best parameters: \", grid_search_DTR.best_params_)\n",
    "print(\"Best score: \", grid_search_DTR.best_score_)\n",
    "\n",
    "# Define Winning Model\n",
    "params_DTR = grid_search_DTR.best_params_"
   ]
  },
  {
   "cell_type": "markdown",
   "id": "a35d3e79-88c3-4e93-9b3d-6f57746cae95",
   "metadata": {
    "tags": []
   },
   "source": [
    "#### SVR"
   ]
  },
  {
   "cell_type": "code",
   "execution_count": 52,
   "id": "06983f6d-f70a-400d-8225-0491acd28611",
   "metadata": {
    "tags": []
   },
   "outputs": [
    {
     "name": "stdout",
     "output_type": "stream",
     "text": [
      "Fitting 5 folds for each of 81 candidates, totalling 405 fits\n",
      "Best parameters:  {'regressor__C': 10.0, 'regressor__epsilon': 0.01, 'regressor__gamma': 0.01, 'regressor__kernel': 'linear'}\n",
      "Best score:  0.4323823354717601\n"
     ]
    }
   ],
   "source": [
    "# Create tmp pipeline\n",
    "opt_pipeline = Pipeline([('preprocessor', preprocessor),\n",
    "                         ('pca', pipe_SVR['pca']),\n",
    "                         ('regressor', pipe_SVR['svr'])])\n",
    "\n",
    "# Create the GridSearchCV object\n",
    "grid_search_SVR = GridSearchCV(opt_pipeline, SVR_param_grid, cv=5, n_jobs=-1, verbose=1)\n",
    "\n",
    "# Fit the GridSearchCV object to the data\n",
    "grid_search_SVR.fit(X_train, y_train)\n",
    "\n",
    "# Print the best parameters and the best score\n",
    "print(\"Best parameters: \", grid_search_SVR.best_params_)\n",
    "print(\"Best score: \", grid_search_SVR.best_score_)\n",
    "\n",
    "# Define Winning Model\n",
    "params_SVR = grid_search_SVR.best_params_"
   ]
  },
  {
   "cell_type": "markdown",
   "id": "f00a3b89-bd5e-4362-908e-e8b258b0b94e",
   "metadata": {},
   "source": [
    "#### Random Forest Regressor"
   ]
  },
  {
   "cell_type": "code",
   "execution_count": 53,
   "id": "30b5a8c4-cd4a-4ac9-b28f-cf97de23fb39",
   "metadata": {
    "tags": []
   },
   "outputs": [
    {
     "name": "stdout",
     "output_type": "stream",
     "text": [
      "Fitting 5 folds for each of 324 candidates, totalling 1620 fits\n"
     ]
    },
    {
     "name": "stderr",
     "output_type": "stream",
     "text": [
      "/opt/miniconda3/lib/python3.10/site-packages/sklearn/model_selection/_validation.py:425: FitFailedWarning: \n",
      "540 fits failed out of a total of 1620.\n",
      "The score on these train-test partitions for these parameters will be set to nan.\n",
      "If these failures are not expected, you can try to debug them by setting error_score='raise'.\n",
      "\n",
      "Below are more details about the failures:\n",
      "--------------------------------------------------------------------------------\n",
      "260 fits failed with the following error:\n",
      "Traceback (most recent call last):\n",
      "  File \"/opt/miniconda3/lib/python3.10/site-packages/sklearn/model_selection/_validation.py\", line 732, in _fit_and_score\n",
      "    estimator.fit(X_train, y_train, **fit_params)\n",
      "  File \"/opt/miniconda3/lib/python3.10/site-packages/sklearn/base.py\", line 1151, in wrapper\n",
      "    return fit_method(estimator, *args, **kwargs)\n",
      "  File \"/opt/miniconda3/lib/python3.10/site-packages/sklearn/pipeline.py\", line 420, in fit\n",
      "    self._final_estimator.fit(Xt, y, **fit_params_last_step)\n",
      "  File \"/opt/miniconda3/lib/python3.10/site-packages/sklearn/base.py\", line 1144, in wrapper\n",
      "    estimator._validate_params()\n",
      "  File \"/opt/miniconda3/lib/python3.10/site-packages/sklearn/base.py\", line 637, in _validate_params\n",
      "    validate_parameter_constraints(\n",
      "  File \"/opt/miniconda3/lib/python3.10/site-packages/sklearn/utils/_param_validation.py\", line 95, in validate_parameter_constraints\n",
      "    raise InvalidParameterError(\n",
      "sklearn.utils._param_validation.InvalidParameterError: The 'max_features' parameter of RandomForestRegressor must be an int in the range [1, inf), a float in the range (0.0, 1.0], a str among {'sqrt', 'log2'} or None. Got 'auto' instead.\n",
      "\n",
      "--------------------------------------------------------------------------------\n",
      "280 fits failed with the following error:\n",
      "Traceback (most recent call last):\n",
      "  File \"/opt/miniconda3/lib/python3.10/site-packages/sklearn/model_selection/_validation.py\", line 732, in _fit_and_score\n",
      "    estimator.fit(X_train, y_train, **fit_params)\n",
      "  File \"/opt/miniconda3/lib/python3.10/site-packages/sklearn/base.py\", line 1151, in wrapper\n",
      "    return fit_method(estimator, *args, **kwargs)\n",
      "  File \"/opt/miniconda3/lib/python3.10/site-packages/sklearn/pipeline.py\", line 420, in fit\n",
      "    self._final_estimator.fit(Xt, y, **fit_params_last_step)\n",
      "  File \"/opt/miniconda3/lib/python3.10/site-packages/sklearn/base.py\", line 1144, in wrapper\n",
      "    estimator._validate_params()\n",
      "  File \"/opt/miniconda3/lib/python3.10/site-packages/sklearn/base.py\", line 637, in _validate_params\n",
      "    validate_parameter_constraints(\n",
      "  File \"/opt/miniconda3/lib/python3.10/site-packages/sklearn/utils/_param_validation.py\", line 95, in validate_parameter_constraints\n",
      "    raise InvalidParameterError(\n",
      "sklearn.utils._param_validation.InvalidParameterError: The 'max_features' parameter of RandomForestRegressor must be an int in the range [1, inf), a float in the range (0.0, 1.0], a str among {'log2', 'sqrt'} or None. Got 'auto' instead.\n",
      "\n",
      "  warnings.warn(some_fits_failed_message, FitFailedWarning)\n",
      "/opt/miniconda3/lib/python3.10/site-packages/sklearn/model_selection/_search.py:976: UserWarning: One or more of the test scores are non-finite: [       nan        nan        nan        nan        nan        nan\n",
      "        nan        nan        nan        nan        nan        nan\n",
      "        nan        nan        nan        nan        nan        nan\n",
      "        nan        nan        nan        nan        nan        nan\n",
      "        nan        nan        nan 0.35896434 0.35858329 0.35968534\n",
      " 0.36866297 0.37443807 0.37261423 0.37611953 0.38233509 0.38345535\n",
      " 0.37650557 0.37599339 0.37656023 0.37649708 0.37598045 0.37638562\n",
      " 0.38029519 0.38502866 0.38124365 0.38480592 0.38621798 0.38546635\n",
      " 0.38480592 0.38627499 0.38543457 0.38487409 0.38626935 0.38545323\n",
      " 0.35882127 0.3584031  0.35989926 0.36849827 0.37400755 0.3726954\n",
      " 0.3763261  0.38233586 0.38334299 0.37633552 0.37589457 0.37635574\n",
      " 0.37649855 0.37598045 0.37644695 0.38007667 0.38502866 0.38132245\n",
      " 0.38480592 0.38630938 0.38546635 0.38478331 0.386224   0.38546927\n",
      " 0.38485072 0.386224   0.38544925        nan        nan        nan\n",
      "        nan        nan        nan        nan        nan        nan\n",
      "        nan        nan        nan        nan        nan        nan\n",
      "        nan        nan        nan        nan        nan        nan\n",
      "        nan        nan        nan        nan        nan        nan\n",
      " 0.38018961 0.38324661 0.38448146 0.38817138 0.38990691 0.38847629\n",
      " 0.39128273 0.39357053 0.39147363 0.38835367 0.38877283 0.38675859\n",
      " 0.38810951 0.38880905 0.3867571  0.39234849 0.39296288 0.39078664\n",
      " 0.38710239 0.38914235 0.38719129 0.38703847 0.38914235 0.38718167\n",
      " 0.38710047 0.38897509 0.38719129 0.38018961 0.38324661 0.38450548\n",
      " 0.38817138 0.38968616 0.38838331 0.39124981 0.39384029 0.39151834\n",
      " 0.38835416 0.38865433 0.3867571  0.38835416 0.38880852 0.38681698\n",
      " 0.39225147 0.39279781 0.39061988 0.38710047 0.38914235 0.38719129\n",
      " 0.38693395 0.38897509 0.3871989  0.38710047 0.38914235 0.38719702\n",
      "        nan        nan        nan        nan        nan        nan\n",
      "        nan        nan        nan        nan        nan        nan\n",
      "        nan        nan        nan        nan        nan        nan\n",
      "        nan        nan        nan        nan        nan        nan\n",
      "        nan        nan        nan 0.36559643 0.36587119 0.36443879\n",
      " 0.37521477 0.3753835  0.37007064 0.37993136 0.38706432 0.38475683\n",
      " 0.37804252 0.37824639 0.37721036 0.37753183 0.3781361  0.37732304\n",
      " 0.37912531 0.38423223 0.38053171 0.38447689 0.38612722 0.38535775\n",
      " 0.3845443  0.38608791 0.3852689  0.38450897 0.38611101 0.38535959\n",
      " 0.36531845 0.36578525 0.36448133 0.37507356 0.3752505  0.37007499\n",
      " 0.38014014 0.38708124 0.38477353 0.37803363 0.3781601  0.37729997\n",
      " 0.378036   0.37824885 0.37725648 0.37905782 0.38425612 0.38051776\n",
      " 0.38445422 0.38618235 0.38537565 0.38454509 0.38607342 0.38537086\n",
      " 0.38447689 0.38611877 0.38535241        nan        nan        nan\n",
      "        nan        nan        nan        nan        nan        nan\n",
      "        nan        nan        nan        nan        nan        nan\n",
      "        nan        nan        nan        nan        nan        nan\n",
      "        nan        nan        nan        nan        nan        nan\n",
      " 0.35918332 0.35881439 0.35943094 0.36916058 0.37430658 0.37264599\n",
      " 0.3763261  0.38233509 0.38334035 0.37615616 0.37587363 0.37638562\n",
      " 0.37632261 0.37595951 0.37640428 0.379711   0.38499226 0.38130491\n",
      " 0.38491888 0.38626256 0.38548422 0.38478331 0.38620222 0.38546392\n",
      " 0.38487409 0.38626708 0.38547178 0.35892302 0.35858364 0.35951179\n",
      " 0.36865924 0.37417886 0.37270327 0.37632801 0.38223384 0.38323426\n",
      " 0.376499   0.37595562 0.37656023 0.37631747 0.37595973 0.37632852\n",
      " 0.38021364 0.38502866 0.38125109 0.38480592 0.386224   0.38545032\n",
      " 0.38480592 0.38626256 0.3854624  0.38487409 0.38614544 0.38547693]\n",
      "  warnings.warn(\n"
     ]
    },
    {
     "name": "stdout",
     "output_type": "stream",
     "text": [
      "Best parameters:  {'regressor__max_depth': 5, 'regressor__max_features': 'log2', 'regressor__min_samples_leaf': 1, 'regressor__min_samples_split': 10, 'regressor__n_estimators': 200, 'regressor__random_state': 42}\n",
      "Best score:  0.393840287624831\n"
     ]
    }
   ],
   "source": [
    "# Create tmp pipeline\n",
    "opt_pipeline = Pipeline([('preprocessor', preprocessor),\n",
    "                         ('pca', pipe_R['pca']),\n",
    "                         ('regressor', pipe_RFR['randomforestregressor'])])\n",
    "\n",
    "# Create the GridSearchCV object\n",
    "grid_search_RFR = GridSearchCV(opt_pipeline, RFR_param_grid, cv=5, n_jobs=-1, verbose=1)\n",
    "\n",
    "# Fit the GridSearchCV object to the data\n",
    "grid_search_RFR.fit(X_train, y_train)\n",
    "\n",
    "# Print the best parameters and the best score\n",
    "print(\"Best parameters: \", grid_search_RFR.best_params_)\n",
    "print(\"Best score: \", grid_search_RFR.best_score_)\n",
    "\n",
    "# Define Winning Model\n",
    "params_RFR = grid_search_RFR.best_params_"
   ]
  },
  {
   "cell_type": "markdown",
   "id": "5ea68e0a-409e-498c-b6de-8e0aa207d332",
   "metadata": {},
   "source": [
    "#### Gradient Boosted Regressor"
   ]
  },
  {
   "cell_type": "code",
   "execution_count": 54,
   "id": "a845de5e-8c3a-4978-920b-37f39e383ceb",
   "metadata": {
    "tags": []
   },
   "outputs": [
    {
     "name": "stdout",
     "output_type": "stream",
     "text": [
      "Fitting 5 folds for each of 36 candidates, totalling 180 fits\n",
      "Best parameters:  {'regressor__max_depth': 5, 'regressor__min_samples_leaf': 1, 'regressor__min_samples_split': 10, 'regressor__random_state': 42}\n",
      "Best score:  0.29224601528602545\n"
     ]
    }
   ],
   "source": [
    "# Create tmp pipeline\n",
    "opt_pipeline = Pipeline([('preprocessor', preprocessor),\n",
    "                         ('pca', pipe_GBR['pca']),\n",
    "                         ('regressor', pipe_GBR['gradientboostingregressor'])])\n",
    "\n",
    "# Create the GridSearchCV object\n",
    "grid_search_GBR = GridSearchCV(opt_pipeline, GBR_param_grid, cv=5, n_jobs=-1, verbose=1)\n",
    "\n",
    "# Fit the GridSearchCV object to the data\n",
    "grid_search_GBR.fit(X_train, y_train)\n",
    "\n",
    "# Print the best parameters and the best score\n",
    "print(\"Best parameters: \", grid_search_GBR.best_params_)\n",
    "print(\"Best score: \", grid_search_GBR.best_score_)\n",
    "\n",
    "# Define Winning Model\n",
    "params_GBR = grid_search_GBR.best_params_"
   ]
  },
  {
   "cell_type": "markdown",
   "id": "642b2a20-8c41-45bb-97bb-883432329dc8",
   "metadata": {},
   "source": [
    "#### ADA Boost Regressor"
   ]
  },
  {
   "cell_type": "raw",
   "id": "196475f4-5773-4dc1-8c0c-d5527888f0ae",
   "metadata": {
    "tags": []
   },
   "source": [
    "# Create tmp pipeline\n",
    "opt_pipeline = Pipeline([('preprocessor', preprocessor),\n",
    "                         ('regressor', pipe_ABR['adaboostregressor'])])\n",
    "\n",
    "# Create the GridSearchCV object\n",
    "grid_search_ABR = GridSearchCV(opt_pipeline, ABR_param_grid, cv=5, n_jobs=-1, verbose=1)\n",
    "\n",
    "# Fit the GridSearchCV object to the data\n",
    "grid_search_ABR.fit(X_train, np.ravel(y_train_rushing_yd))\n",
    "\n",
    "# Print the best parameters and the best score\n",
    "print(\"Best parameters: \", grid_search_ABR.best_params_)\n",
    "print(\"Best score: \", grid_search_ABR.best_score_)\n",
    "\n",
    "# Define Winning Model\n",
    "params_ABR = grid_search_ABR.best_params_"
   ]
  },
  {
   "cell_type": "markdown",
   "id": "cf21f781-0897-4c41-bf04-522f20baf53c",
   "metadata": {},
   "source": [
    "Fitting 5 folds for each of 54 candidates, totalling 270 fits\n",
    "\n",
    "Best parameters:  {'classifier__base_estimator': DecisionTreeRegressor(), 'classifier__learning_rate': 500, 'classifier__loss': 'square', 'classifier__n_estimators': 200, 'classifier__random_state': 42}\n",
    "\n",
    "Best score:  -0.6657064531111454"
   ]
  },
  {
   "cell_type": "markdown",
   "id": "72420515-7687-414d-b23f-3082b6efc65a",
   "metadata": {},
   "source": [
    "### Model Comparison"
   ]
  },
  {
   "cell_type": "code",
   "execution_count": 55,
   "id": "be7f64bc-a574-4aef-861e-58fd4504f846",
   "metadata": {
    "tags": []
   },
   "outputs": [],
   "source": [
    "def mean_std_cross_val_scores(model, X_train, y_train, **kwargs):\n",
    "    \"\"\"\n",
    "    Returns mean and std of cross validation\n",
    "\n",
    "    Parameters\n",
    "    ----------\n",
    "    model :\n",
    "        scikit-learn model\n",
    "    X_train : numpy array or pandas DataFrame\n",
    "        X in the training data\n",
    "    y_train :\n",
    "        y in the training data\n",
    "\n",
    "    Returns\n",
    "    ----------\n",
    "        pandas Series with mean scores from cross_validation\n",
    "    \"\"\"\n",
    "\n",
    "    scores = cross_validate(model, X_train, y_train)\n",
    "\n",
    "    mean_scores = pd.DataFrame(scores).mean()\n",
    "    std_scores = pd.DataFrame(scores).std()\n",
    "    out_col = []\n",
    "\n",
    "    for i in range(len(mean_scores)):\n",
    "        out_col.append((f\"%0.3f (+/- %0.3f)\" % (mean_scores[i], std_scores[i])))\n",
    "\n",
    "    return pd.Series(data=out_col, index=mean_scores.index)"
   ]
  },
  {
   "cell_type": "code",
   "execution_count": 56,
   "id": "e012df96-554f-4901-8760-be09fa023ae3",
   "metadata": {
    "tags": []
   },
   "outputs": [],
   "source": [
    "def mape(true, pred):\n",
    "    return 100.0 * np.mean(np.abs((pred - true) / true))\n",
    "\n",
    "\n",
    "# make a scorer function that we can pass into cross-validation\n",
    "mape_scorer = make_scorer(mape, greater_is_better=False)\n",
    "\n",
    "scoring_metrics = {\n",
    "    \"neg RMSE\": \"neg_root_mean_squared_error\",\n",
    "    \"r2\": \"r2\",\n",
    "    \"mape\": mape_scorer,\n",
    "}"
   ]
  },
  {
   "cell_type": "code",
   "execution_count": 57,
   "id": "a98535fb-03d5-4aa5-87e2-e5998b996444",
   "metadata": {
    "tags": []
   },
   "outputs": [],
   "source": [
    "# Define Regression\n",
    "R_pipe = make_pipeline(preprocessor,\n",
    "                       PCA(n_components=n_pc),\n",
    "                       Ridge(alpha = params_R['regressor__alpha'],\n",
    "                             fit_intercept = params_R['regressor__fit_intercept'],\n",
    "                             solver = params_R['regressor__solver']))\n",
    "\n",
    "# Define Lasso\n",
    "L_pipe = make_pipeline(preprocessor, \n",
    "                       PCA(n_components=n_pc),\n",
    "                       Lasso(alpha = params_L['regressor__alpha'],\n",
    "                             fit_intercept = params_L['regressor__fit_intercept'],\n",
    "                             max_iter = params_L['regressor__max_iter'],\n",
    "                             tol = params_L['regressor__tol']))\n",
    "\n",
    "# Define Elastic Net\n",
    "EN_pipe = make_pipeline(preprocessor, \n",
    "                        PCA(n_components=n_pc),\n",
    "                        ElasticNet(alpha = params_EN['regressor__alpha'],\n",
    "                                   fit_intercept = params_EN['regressor__fit_intercept'],\n",
    "                                   max_iter = params_EN['regressor__max_iter'],\n",
    "                                   tol = params_L['regressor__tol']))\n",
    "\n",
    "# Define Decision Tree Regression\n",
    "DTR_pipe = make_pipeline(preprocessor, \n",
    "                         PCA(n_components=n_pc),\n",
    "                         DecisionTreeRegressor(max_depth = params_DTR['regressor__max_depth'],\n",
    "                                               max_features = params_DTR['regressor__max_features'],\n",
    "                                               min_samples_leaf = params_DTR['regressor__min_samples_leaf'],\n",
    "                                               min_samples_split = params_DTR['regressor__min_samples_split']))\n",
    "\n",
    "# Define SVR\n",
    "SVR_pipe = make_pipeline(preprocessor, \n",
    "                         PCA(n_components=n_pc),\n",
    "                         SVR(C = params_SVR['regressor__C'],\n",
    "                             epsilon = params_SVR['regressor__epsilon'],\n",
    "                             gamma = params_SVR['regressor__gamma'],\n",
    "                             kernel = params_SVR['regressor__kernel']))\n",
    "\n",
    "# Define RFR\n",
    "RFR_pipe = make_pipeline(preprocessor, \n",
    "                         PCA(n_components=n_pc),\n",
    "                         RandomForestRegressor(max_depth = params_RFR['regressor__max_depth'],\n",
    "                                               max_features = params_RFR['regressor__max_features'],\n",
    "                                               min_samples_leaf = params_RFR['regressor__min_samples_leaf'],\n",
    "                                               min_samples_split = params_RFR['regressor__min_samples_split'],\n",
    "                                               n_estimators = params_RFR['regressor__n_estimators'],\n",
    "                                               random_state = params_RFR['regressor__random_state']))\n",
    "\n",
    "# Define GBR\n",
    "GBR_pipe = make_pipeline(preprocessor,\n",
    "                         PCA(n_components=n_pc),\n",
    "                         GradientBoostingRegressor(max_depth = params_GBR['regressor__max_depth'],\n",
    "                                                   min_samples_leaf = params_GBR['regressor__min_samples_leaf'],\n",
    "                                                   min_samples_split = params_GBR['regressor__min_samples_split'],\n",
    "                                                   random_state = params_GBR['regressor__random_state']))\n",
    "\n",
    "# Define ABR\n",
    "#ABR_pipe = make_pipeline(preprocessor, \n",
    "#                         PCA(n_components=n_pc),\n",
    "#                         AdaBoostRegressor(estimator = params_ABR['regressor__estimator'],\n",
    "#                                           learning_rate = params_ABR['regressor__learning_rate'],\n",
    "#                                           loss = params_ABR['regressor__loss'],\n",
    "#                                           n_estimators = params_ABR['regressor__n_estimators'],\n",
    "#                                           random_state = params_ABR['regressor__random_state']))\n",
    "\n",
    "\n",
    "models = {\n",
    "    \"Ridge\" : R_pipe,\n",
    "    \"Lasso\" : L_pipe,\n",
    "    \"Elastic Net\" : EN_pipe,\n",
    "    \"Decision Tree Regressor\" : DTR_pipe,\n",
    "    \"SVR\" : SVR_pipe,\n",
    "    \"Random Forest Regression\" : RFR_pipe,\n",
    "    \"Gradient Boosting Regressor\" : GBR_pipe#,\n",
    "    #\"Ada Boost Regressor\" : ABR_pipe\n",
    "}"
   ]
  },
  {
   "cell_type": "code",
   "execution_count": 59,
   "id": "4741c897-d474-4cdf-92db-512f300bc358",
   "metadata": {
    "tags": []
   },
   "outputs": [
    {
     "data": {
      "text/html": [
       "<div>\n",
       "<style scoped>\n",
       "    .dataframe tbody tr th:only-of-type {\n",
       "        vertical-align: middle;\n",
       "    }\n",
       "\n",
       "    .dataframe tbody tr th {\n",
       "        vertical-align: top;\n",
       "    }\n",
       "\n",
       "    .dataframe thead th {\n",
       "        text-align: right;\n",
       "    }\n",
       "</style>\n",
       "<table border=\"1\" class=\"dataframe\">\n",
       "  <thead>\n",
       "    <tr style=\"text-align: right;\">\n",
       "      <th></th>\n",
       "      <th>Ridge</th>\n",
       "      <th>Lasso</th>\n",
       "      <th>Elastic Net</th>\n",
       "      <th>Decision Tree Regressor</th>\n",
       "      <th>SVR</th>\n",
       "      <th>Random Forest Regression</th>\n",
       "      <th>Gradient Boosting Regressor</th>\n",
       "    </tr>\n",
       "  </thead>\n",
       "  <tbody>\n",
       "    <tr>\n",
       "      <th>fit_time</th>\n",
       "      <td>0.039 (+/- 0.004)</td>\n",
       "      <td>0.037 (+/- 0.001)</td>\n",
       "      <td>0.039 (+/- 0.002)</td>\n",
       "      <td>0.040 (+/- 0.003)</td>\n",
       "      <td>0.050 (+/- 0.001)</td>\n",
       "      <td>0.364 (+/- 0.013)</td>\n",
       "      <td>0.185 (+/- 0.007)</td>\n",
       "    </tr>\n",
       "    <tr>\n",
       "      <th>score_time</th>\n",
       "      <td>0.014 (+/- 0.001)</td>\n",
       "      <td>0.013 (+/- 0.001)</td>\n",
       "      <td>0.013 (+/- 0.001)</td>\n",
       "      <td>0.014 (+/- 0.001)</td>\n",
       "      <td>0.016 (+/- 0.000)</td>\n",
       "      <td>0.019 (+/- 0.001)</td>\n",
       "      <td>0.014 (+/- 0.001)</td>\n",
       "    </tr>\n",
       "    <tr>\n",
       "      <th>test_score</th>\n",
       "      <td>0.432 (+/- 0.082)</td>\n",
       "      <td>0.432 (+/- 0.082)</td>\n",
       "      <td>0.432 (+/- 0.082)</td>\n",
       "      <td>0.253 (+/- 0.215)</td>\n",
       "      <td>0.432 (+/- 0.073)</td>\n",
       "      <td>0.394 (+/- 0.117)</td>\n",
       "      <td>0.291 (+/- 0.203)</td>\n",
       "    </tr>\n",
       "  </tbody>\n",
       "</table>\n",
       "</div>"
      ],
      "text/plain": [
       "                        Ridge              Lasso        Elastic Net  \\\n",
       "fit_time    0.039 (+/- 0.004)  0.037 (+/- 0.001)  0.039 (+/- 0.002)   \n",
       "score_time  0.014 (+/- 0.001)  0.013 (+/- 0.001)  0.013 (+/- 0.001)   \n",
       "test_score  0.432 (+/- 0.082)  0.432 (+/- 0.082)  0.432 (+/- 0.082)   \n",
       "\n",
       "           Decision Tree Regressor                SVR  \\\n",
       "fit_time         0.040 (+/- 0.003)  0.050 (+/- 0.001)   \n",
       "score_time       0.014 (+/- 0.001)  0.016 (+/- 0.000)   \n",
       "test_score       0.253 (+/- 0.215)  0.432 (+/- 0.073)   \n",
       "\n",
       "           Random Forest Regression Gradient Boosting Regressor  \n",
       "fit_time          0.364 (+/- 0.013)           0.185 (+/- 0.007)  \n",
       "score_time        0.019 (+/- 0.001)           0.014 (+/- 0.001)  \n",
       "test_score        0.394 (+/- 0.117)           0.291 (+/- 0.203)  "
      ]
     },
     "execution_count": 59,
     "metadata": {},
     "output_type": "execute_result"
    }
   ],
   "source": [
    "results = {}\n",
    "\n",
    "for (name, model) in models.items():\n",
    "    results[name] = mean_std_cross_val_scores(\n",
    "        model, X_train, y_train, return_train_score=True, scoring=scoring_metrics\n",
    "    )\n",
    "\n",
    "pd.DataFrame(results)"
   ]
  },
  {
   "cell_type": "markdown",
   "id": "0c9965d1-66c8-4de2-9f36-a8f452d9a8ad",
   "metadata": {
    "tags": []
   },
   "source": [
    "### Winning Model: Elastic Net"
   ]
  },
  {
   "cell_type": "markdown",
   "id": "61c3932a-46d6-4fe2-883d-09a746e27949",
   "metadata": {},
   "source": [
    "## Fit the Winning Model"
   ]
  },
  {
   "cell_type": "code",
   "execution_count": 60,
   "id": "10ba53aa-23d7-4aa7-bdbb-49b443dce624",
   "metadata": {
    "tags": []
   },
   "outputs": [],
   "source": [
    "R_fit = R_pipe.fit(X_train, y_train)"
   ]
  },
  {
   "cell_type": "markdown",
   "id": "c63efc91-732f-4685-a75a-2b6e9c17b1d2",
   "metadata": {},
   "source": [
    "## Generate Test Predictions"
   ]
  },
  {
   "cell_type": "code",
   "execution_count": 61,
   "id": "af3cb1af-59d4-4125-bd1e-aab3cedbce48",
   "metadata": {
    "tags": []
   },
   "outputs": [],
   "source": [
    "R_predictions = R_fit.predict(X_test)"
   ]
  },
  {
   "cell_type": "markdown",
   "id": "ae329854-4f72-4e3f-aee7-252c60ebd415",
   "metadata": {},
   "source": [
    "## Model Performance"
   ]
  },
  {
   "cell_type": "code",
   "execution_count": 62,
   "id": "61eb1242-0e8a-4ad9-a1aa-ace365dc46d6",
   "metadata": {
    "tags": []
   },
   "outputs": [],
   "source": [
    "from sklearn.metrics import mean_squared_error\n",
    "from sklearn.metrics import mean_absolute_percentage_error\n",
    "from sklearn.metrics import r2_score\n",
    "\n",
    "def evaluate_model(y_true, y_pred):\n",
    "    \"\"\"\n",
    "    Calculates various evaluation metrics for a binary classification problem.\n",
    "\n",
    "    Parameters:\n",
    "    - y_true (array-like): True labels\n",
    "    - y_pred (array-like): Predicted labels\n",
    "\n",
    "    Returns:\n",
    "    - accuracy (float): Accuracy of the model\n",
    "    - f1 (float): F1 score of the model\n",
    "    - auc (float): AUC-ROC of the model\n",
    "    - precision (float): precision of the model\n",
    "    - recall (float): recall of the model\n",
    "    \"\"\"\n",
    "    MSE = mean_squared_error(y_true, y_pred)\n",
    "    MAP = mean_absolute_percentage_error(y_true, y_pred)\n",
    "    R2 = r2_score(y_true, y_pred)\n",
    "    \n",
    "    print(f'MSE: {MSE:.2f}')\n",
    "    print(f'MAP: {MAP:.2f}')\n",
    "    print(f'R-squared: {R2:.2f}')\n",
    "    \n",
    "    return (MSE, MAP, R2)"
   ]
  },
  {
   "cell_type": "code",
   "execution_count": 64,
   "id": "90e1c427-569c-4715-a9b1-af9667fd93f2",
   "metadata": {
    "tags": []
   },
   "outputs": [
    {
     "name": "stdout",
     "output_type": "stream",
     "text": [
      "MSE: 114827.95\n",
      "MAP: 3.11\n",
      "R-squared: 0.30\n"
     ]
    }
   ],
   "source": [
    "model_performance = evaluate_model(y_test, R_predictions)"
   ]
  },
  {
   "cell_type": "code",
   "execution_count": 67,
   "id": "c8011083-d0f8-451b-9286-c7e16402b3c6",
   "metadata": {
    "tags": []
   },
   "outputs": [
    {
     "data": {
      "image/png": "[encoded data removed]",
      "text/plain": [
       "<Figure size 800x550 with 1 Axes>"
      ]
     },
     "metadata": {},
     "output_type": "display_data"
    }
   ],
   "source": [
    "plt.scatter(y_test, R_predictions)\n",
    "plt.plot([min(y_test), \n",
    "          max(y_test)], \n",
    "         [min(y_test), \n",
    "          max(y_test)], 'r--')\n",
    "plt.xlabel('Observed')\n",
    "plt.ylabel('Predicted')\n",
    "plt.title('Predictions vs Observations')\n",
    "plt.show()"
   ]
  },
  {
   "cell_type": "code",
   "execution_count": null,
   "id": "d1caa43b-508c-4791-a9a4-561134f6e4a7",
   "metadata": {},
   "outputs": [],
   "source": []
  }
 ],
 "metadata": {
  "kernelspec": {
   "display_name": "Python 3 (ipykernel)",
   "language": "python",
   "name": "python3"
  },
  "language_info": {
   "codemirror_mode": {
    "name": "ipython",
    "version": 3
   },
   "file_extension": ".py",
   "mimetype": "text/x-python",
   "name": "python",
   "nbconvert_exporter": "python",
   "pygments_lexer": "ipython3",
   "version": "3.10.11"
  }
 },
 "nbformat": 4,
 "nbformat_minor": 5
}
